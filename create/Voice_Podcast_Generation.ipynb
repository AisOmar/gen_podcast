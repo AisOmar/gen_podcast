{
  "nbformat": 4,
  "nbformat_minor": 0,
  "metadata": {
    "colab": {
      "provenance": []
    },
    "kernelspec": {
      "name": "python3",
      "display_name": "Python 3"
    },
    "language_info": {
      "name": "python"
    }
  },
  "cells": [
    {
      "cell_type": "markdown",
      "metadata": {
        "id": "view-in-github"
      },
      "source": [
        "<a href=\"https://colab.research.google.com/github/sidhusmart/CoRise_Prompt_Design_Course/blob/cohort3/Week_1/CoRise_Week1_StudentVersion.ipynb\" target=\"_parent\"><img src=\"https://colab.research.google.com/assets/colab-badge.svg\" alt=\"Open In Colab\"/></a>"
      ]
    },
    {
      "cell_type": "markdown",
      "source": [
        "# Let's build a product that generate your own customized Podcast\n",
        "\n",
        "\n",
        "The entire project is divided into the following three steps:\n",
        "\n",
        "1. Reading the PDF and identifying the key points using an LLM\n",
        "2. Generating a podcast conversation in various styles that discuss the key themes\n",
        "3. Giving voice to the podcast and generate the audio\n",
        "4. Putting all the pieces together to deploy your product\n"
      ],
      "metadata": {
        "id": "1VCak9xmXGGn"
      }
    },
    {
      "cell_type": "markdown",
      "source": [
        "# The Goal\n",
        "\n",
        "Imagine the possibility of tuning into a podcast that aligns perfectly with your current interests. Picture the joy of listening to a discussion about the world history, despite such a niche topic seemingly not existing in podcast form. What if there was a way to generate a podcast about the latest Large Language Models (LLM) research paper you stumbled upon? And what if this podcast could be tailored to your preferences—perhaps you favor summaries over deep dives, enjoy the occasional witty joke, or prefer listening to guests with deep, soothing voices?"
      ],
      "metadata": {
        "id": "rhyVqxv8xG1O"
      }
    },
    {
      "cell_type": "code",
      "source": [
        "## Setting up the necessary dependencies\n",
        "!pip uninstall typing-extensions -y\n",
        "!pip uninstall gradio -y\n",
        "!pip install typing_extensions==4.7.1\n",
        "!pip install gradio\n",
        "!pip install feedparser\n",
        "!pip install transformers accelerate\n",
        "!pip install openai\n",
        "!pip install tiktoken\n",
        "!pip install pypdf"
      ],
      "metadata": {
        "id": "1P1GLIePvEHZ",
        "colab": {
          "base_uri": "https://localhost:8080/"
        },
        "outputId": "24cb9887-26fb-4731-b19c-4f8b3094dd51"
      },
      "execution_count": null,
      "outputs": [
        {
          "output_type": "stream",
          "name": "stdout",
          "text": [
            "Found existing installation: typing_extensions 4.10.0\n",
            "Uninstalling typing_extensions-4.10.0:\n",
            "  Successfully uninstalled typing_extensions-4.10.0\n",
            "\u001b[33mWARNING: Skipping gradio as it is not installed.\u001b[0m\u001b[33m\n",
            "\u001b[0mCollecting typing_extensions==4.7.1\n",
            "  Downloading typing_extensions-4.7.1-py3-none-any.whl (33 kB)\n",
            "Installing collected packages: typing_extensions\n",
            "Successfully installed typing_extensions-4.7.1\n",
            "Collecting gradio\n",
            "  Downloading gradio-4.19.2-py3-none-any.whl (16.9 MB)\n",
            "\u001b[2K     \u001b[90m━━━━━━━━━━━━━━━━━━━━━━━━━━━━━━━━━━━━━━━━\u001b[0m \u001b[32m16.9/16.9 MB\u001b[0m \u001b[31m32.0 MB/s\u001b[0m eta \u001b[36m0:00:00\u001b[0m\n",
            "\u001b[?25hCollecting aiofiles<24.0,>=22.0 (from gradio)\n",
            "  Downloading aiofiles-23.2.1-py3-none-any.whl (15 kB)\n",
            "Requirement already satisfied: altair<6.0,>=4.2.0 in /usr/local/lib/python3.10/dist-packages (from gradio) (4.2.2)\n",
            "Collecting fastapi (from gradio)\n",
            "  Downloading fastapi-0.110.0-py3-none-any.whl (92 kB)\n",
            "\u001b[2K     \u001b[90m━━━━━━━━━━━━━━━━━━━━━━━━━━━━━━━━━━━━━━━━\u001b[0m \u001b[32m92.1/92.1 kB\u001b[0m \u001b[31m8.8 MB/s\u001b[0m eta \u001b[36m0:00:00\u001b[0m\n",
            "\u001b[?25hCollecting ffmpy (from gradio)\n",
            "  Downloading ffmpy-0.3.2.tar.gz (5.5 kB)\n",
            "  Preparing metadata (setup.py) ... \u001b[?25l\u001b[?25hdone\n",
            "Collecting gradio-client==0.10.1 (from gradio)\n",
            "  Downloading gradio_client-0.10.1-py3-none-any.whl (307 kB)\n",
            "\u001b[2K     \u001b[90m━━━━━━━━━━━━━━━━━━━━━━━━━━━━━━━━━━━━━━━━\u001b[0m \u001b[32m307.9/307.9 kB\u001b[0m \u001b[31m22.7 MB/s\u001b[0m eta \u001b[36m0:00:00\u001b[0m\n",
            "\u001b[?25hCollecting httpx>=0.24.1 (from gradio)\n",
            "  Downloading httpx-0.27.0-py3-none-any.whl (75 kB)\n",
            "\u001b[2K     \u001b[90m━━━━━━━━━━━━━━━━━━━━━━━━━━━━━━━━━━━━━━━━\u001b[0m \u001b[32m75.6/75.6 kB\u001b[0m \u001b[31m8.9 MB/s\u001b[0m eta \u001b[36m0:00:00\u001b[0m\n",
            "\u001b[?25hRequirement already satisfied: huggingface-hub>=0.19.3 in /usr/local/lib/python3.10/dist-packages (from gradio) (0.20.3)\n",
            "Requirement already satisfied: importlib-resources<7.0,>=1.3 in /usr/local/lib/python3.10/dist-packages (from gradio) (6.1.2)\n",
            "Requirement already satisfied: jinja2<4.0 in /usr/local/lib/python3.10/dist-packages (from gradio) (3.1.3)\n",
            "Requirement already satisfied: markupsafe~=2.0 in /usr/local/lib/python3.10/dist-packages (from gradio) (2.1.5)\n",
            "Requirement already satisfied: matplotlib~=3.0 in /usr/local/lib/python3.10/dist-packages (from gradio) (3.7.1)\n",
            "Requirement already satisfied: numpy~=1.0 in /usr/local/lib/python3.10/dist-packages (from gradio) (1.25.2)\n",
            "Collecting orjson~=3.0 (from gradio)\n",
            "  Downloading orjson-3.9.15-cp310-cp310-manylinux_2_17_x86_64.manylinux2014_x86_64.whl (138 kB)\n",
            "\u001b[2K     \u001b[90m━━━━━━━━━━━━━━━━━━━━━━━━━━━━━━━━━━━━━━━━\u001b[0m \u001b[32m138.5/138.5 kB\u001b[0m \u001b[31m13.8 MB/s\u001b[0m eta \u001b[36m0:00:00\u001b[0m\n",
            "\u001b[?25hRequirement already satisfied: packaging in /usr/local/lib/python3.10/dist-packages (from gradio) (23.2)\n",
            "Requirement already satisfied: pandas<3.0,>=1.0 in /usr/local/lib/python3.10/dist-packages (from gradio) (1.5.3)\n",
            "Requirement already satisfied: pillow<11.0,>=8.0 in /usr/local/lib/python3.10/dist-packages (from gradio) (9.4.0)\n",
            "Requirement already satisfied: pydantic>=2.0 in /usr/local/lib/python3.10/dist-packages (from gradio) (2.6.3)\n",
            "Collecting pydub (from gradio)\n",
            "  Downloading pydub-0.25.1-py2.py3-none-any.whl (32 kB)\n",
            "Collecting python-multipart>=0.0.9 (from gradio)\n",
            "  Downloading python_multipart-0.0.9-py3-none-any.whl (22 kB)\n",
            "Requirement already satisfied: pyyaml<7.0,>=5.0 in /usr/local/lib/python3.10/dist-packages (from gradio) (6.0.1)\n",
            "Collecting ruff>=0.2.2 (from gradio)\n",
            "  Downloading ruff-0.3.0-py3-none-manylinux_2_17_x86_64.manylinux2014_x86_64.whl (7.8 MB)\n",
            "\u001b[2K     \u001b[90m━━━━━━━━━━━━━━━━━━━━━━━━━━━━━━━━━━━━━━━━\u001b[0m \u001b[32m7.8/7.8 MB\u001b[0m \u001b[31m60.4 MB/s\u001b[0m eta \u001b[36m0:00:00\u001b[0m\n",
            "\u001b[?25hCollecting semantic-version~=2.0 (from gradio)\n",
            "  Downloading semantic_version-2.10.0-py2.py3-none-any.whl (15 kB)\n",
            "Collecting tomlkit==0.12.0 (from gradio)\n",
            "  Downloading tomlkit-0.12.0-py3-none-any.whl (37 kB)\n",
            "Requirement already satisfied: typer[all]<1.0,>=0.9 in /usr/local/lib/python3.10/dist-packages (from gradio) (0.9.0)\n",
            "Requirement already satisfied: typing-extensions~=4.0 in /usr/local/lib/python3.10/dist-packages (from gradio) (4.7.1)\n",
            "Collecting uvicorn>=0.14.0 (from gradio)\n",
            "  Downloading uvicorn-0.27.1-py3-none-any.whl (60 kB)\n",
            "\u001b[2K     \u001b[90m━━━━━━━━━━━━━━━━━━━━━━━━━━━━━━━━━━━━━━━━\u001b[0m \u001b[32m60.8/60.8 kB\u001b[0m \u001b[31m6.2 MB/s\u001b[0m eta \u001b[36m0:00:00\u001b[0m\n",
            "\u001b[?25hRequirement already satisfied: fsspec in /usr/local/lib/python3.10/dist-packages (from gradio-client==0.10.1->gradio) (2023.6.0)\n",
            "Collecting websockets<12.0,>=10.0 (from gradio-client==0.10.1->gradio)\n",
            "  Downloading websockets-11.0.3-cp310-cp310-manylinux_2_5_x86_64.manylinux1_x86_64.manylinux_2_17_x86_64.manylinux2014_x86_64.whl (129 kB)\n",
            "\u001b[2K     \u001b[90m━━━━━━━━━━━━━━━━━━━━━━━━━━━━━━━━━━━━━━━━\u001b[0m \u001b[32m129.9/129.9 kB\u001b[0m \u001b[31m12.8 MB/s\u001b[0m eta \u001b[36m0:00:00\u001b[0m\n",
            "\u001b[?25hRequirement already satisfied: entrypoints in /usr/local/lib/python3.10/dist-packages (from altair<6.0,>=4.2.0->gradio) (0.4)\n",
            "Requirement already satisfied: jsonschema>=3.0 in /usr/local/lib/python3.10/dist-packages (from altair<6.0,>=4.2.0->gradio) (4.19.2)\n",
            "Requirement already satisfied: toolz in /usr/local/lib/python3.10/dist-packages (from altair<6.0,>=4.2.0->gradio) (0.12.1)\n",
            "Requirement already satisfied: anyio in /usr/local/lib/python3.10/dist-packages (from httpx>=0.24.1->gradio) (3.7.1)\n",
            "Requirement already satisfied: certifi in /usr/local/lib/python3.10/dist-packages (from httpx>=0.24.1->gradio) (2024.2.2)\n",
            "Collecting httpcore==1.* (from httpx>=0.24.1->gradio)\n",
            "  Downloading httpcore-1.0.4-py3-none-any.whl (77 kB)\n",
            "\u001b[2K     \u001b[90m━━━━━━━━━━━━━━━━━━━━━━━━━━━━━━━━━━━━━━━━\u001b[0m \u001b[32m77.8/77.8 kB\u001b[0m \u001b[31m7.4 MB/s\u001b[0m eta \u001b[36m0:00:00\u001b[0m\n",
            "\u001b[?25hRequirement already satisfied: idna in /usr/local/lib/python3.10/dist-packages (from httpx>=0.24.1->gradio) (3.6)\n",
            "Requirement already satisfied: sniffio in /usr/local/lib/python3.10/dist-packages (from httpx>=0.24.1->gradio) (1.3.1)\n",
            "Collecting h11<0.15,>=0.13 (from httpcore==1.*->httpx>=0.24.1->gradio)\n",
            "  Downloading h11-0.14.0-py3-none-any.whl (58 kB)\n",
            "\u001b[2K     \u001b[90m━━━━━━━━━━━━━━━━━━━━━━━━━━━━━━━━━━━━━━━━\u001b[0m \u001b[32m58.3/58.3 kB\u001b[0m \u001b[31m6.6 MB/s\u001b[0m eta \u001b[36m0:00:00\u001b[0m\n",
            "\u001b[?25hRequirement already satisfied: filelock in /usr/local/lib/python3.10/dist-packages (from huggingface-hub>=0.19.3->gradio) (3.13.1)\n",
            "Requirement already satisfied: requests in /usr/local/lib/python3.10/dist-packages (from huggingface-hub>=0.19.3->gradio) (2.31.0)\n",
            "Requirement already satisfied: tqdm>=4.42.1 in /usr/local/lib/python3.10/dist-packages (from huggingface-hub>=0.19.3->gradio) (4.66.2)\n",
            "Requirement already satisfied: contourpy>=1.0.1 in /usr/local/lib/python3.10/dist-packages (from matplotlib~=3.0->gradio) (1.2.0)\n",
            "Requirement already satisfied: cycler>=0.10 in /usr/local/lib/python3.10/dist-packages (from matplotlib~=3.0->gradio) (0.12.1)\n",
            "Requirement already satisfied: fonttools>=4.22.0 in /usr/local/lib/python3.10/dist-packages (from matplotlib~=3.0->gradio) (4.49.0)\n",
            "Requirement already satisfied: kiwisolver>=1.0.1 in /usr/local/lib/python3.10/dist-packages (from matplotlib~=3.0->gradio) (1.4.5)\n",
            "Requirement already satisfied: pyparsing>=2.3.1 in /usr/local/lib/python3.10/dist-packages (from matplotlib~=3.0->gradio) (3.1.1)\n",
            "Requirement already satisfied: python-dateutil>=2.7 in /usr/local/lib/python3.10/dist-packages (from matplotlib~=3.0->gradio) (2.8.2)\n",
            "Requirement already satisfied: pytz>=2020.1 in /usr/local/lib/python3.10/dist-packages (from pandas<3.0,>=1.0->gradio) (2023.4)\n",
            "Requirement already satisfied: annotated-types>=0.4.0 in /usr/local/lib/python3.10/dist-packages (from pydantic>=2.0->gradio) (0.6.0)\n",
            "Requirement already satisfied: pydantic-core==2.16.3 in /usr/local/lib/python3.10/dist-packages (from pydantic>=2.0->gradio) (2.16.3)\n",
            "Requirement already satisfied: click<9.0.0,>=7.1.1 in /usr/local/lib/python3.10/dist-packages (from typer[all]<1.0,>=0.9->gradio) (8.1.7)\n",
            "Collecting colorama<0.5.0,>=0.4.3 (from typer[all]<1.0,>=0.9->gradio)\n",
            "  Downloading colorama-0.4.6-py2.py3-none-any.whl (25 kB)\n",
            "Collecting shellingham<2.0.0,>=1.3.0 (from typer[all]<1.0,>=0.9->gradio)\n",
            "  Downloading shellingham-1.5.4-py2.py3-none-any.whl (9.8 kB)\n",
            "Requirement already satisfied: rich<14.0.0,>=10.11.0 in /usr/local/lib/python3.10/dist-packages (from typer[all]<1.0,>=0.9->gradio) (13.7.0)\n",
            "Collecting starlette<0.37.0,>=0.36.3 (from fastapi->gradio)\n",
            "  Downloading starlette-0.36.3-py3-none-any.whl (71 kB)\n",
            "\u001b[2K     \u001b[90m━━━━━━━━━━━━━━━━━━━━━━━━━━━━━━━━━━━━━━━━\u001b[0m \u001b[32m71.5/71.5 kB\u001b[0m \u001b[31m8.4 MB/s\u001b[0m eta \u001b[36m0:00:00\u001b[0m\n",
            "\u001b[?25hCollecting typing-extensions~=4.0 (from gradio)\n",
            "  Downloading typing_extensions-4.10.0-py3-none-any.whl (33 kB)\n",
            "Requirement already satisfied: attrs>=22.2.0 in /usr/local/lib/python3.10/dist-packages (from jsonschema>=3.0->altair<6.0,>=4.2.0->gradio) (23.2.0)\n",
            "Requirement already satisfied: jsonschema-specifications>=2023.03.6 in /usr/local/lib/python3.10/dist-packages (from jsonschema>=3.0->altair<6.0,>=4.2.0->gradio) (2023.12.1)\n",
            "Requirement already satisfied: referencing>=0.28.4 in /usr/local/lib/python3.10/dist-packages (from jsonschema>=3.0->altair<6.0,>=4.2.0->gradio) (0.33.0)\n",
            "Requirement already satisfied: rpds-py>=0.7.1 in /usr/local/lib/python3.10/dist-packages (from jsonschema>=3.0->altair<6.0,>=4.2.0->gradio) (0.18.0)\n",
            "Requirement already satisfied: six>=1.5 in /usr/local/lib/python3.10/dist-packages (from python-dateutil>=2.7->matplotlib~=3.0->gradio) (1.16.0)\n",
            "Requirement already satisfied: markdown-it-py>=2.2.0 in /usr/local/lib/python3.10/dist-packages (from rich<14.0.0,>=10.11.0->typer[all]<1.0,>=0.9->gradio) (3.0.0)\n",
            "Requirement already satisfied: pygments<3.0.0,>=2.13.0 in /usr/local/lib/python3.10/dist-packages (from rich<14.0.0,>=10.11.0->typer[all]<1.0,>=0.9->gradio) (2.16.1)\n",
            "Requirement already satisfied: exceptiongroup in /usr/local/lib/python3.10/dist-packages (from anyio->httpx>=0.24.1->gradio) (1.2.0)\n",
            "Requirement already satisfied: charset-normalizer<4,>=2 in /usr/local/lib/python3.10/dist-packages (from requests->huggingface-hub>=0.19.3->gradio) (3.3.2)\n",
            "Requirement already satisfied: urllib3<3,>=1.21.1 in /usr/local/lib/python3.10/dist-packages (from requests->huggingface-hub>=0.19.3->gradio) (2.0.7)\n",
            "Requirement already satisfied: mdurl~=0.1 in /usr/local/lib/python3.10/dist-packages (from markdown-it-py>=2.2.0->rich<14.0.0,>=10.11.0->typer[all]<1.0,>=0.9->gradio) (0.1.2)\n",
            "Building wheels for collected packages: ffmpy\n",
            "  Building wheel for ffmpy (setup.py) ... \u001b[?25l\u001b[?25hdone\n",
            "  Created wheel for ffmpy: filename=ffmpy-0.3.2-py3-none-any.whl size=5584 sha256=24077d423f1498da0a6af4bd84f09cd69a0ad5288fc36ce469063db069a69fcf\n",
            "  Stored in directory: /root/.cache/pip/wheels/bd/65/9a/671fc6dcde07d4418df0c592f8df512b26d7a0029c2a23dd81\n",
            "Successfully built ffmpy\n",
            "Installing collected packages: pydub, ffmpy, websockets, typing-extensions, tomlkit, shellingham, semantic-version, ruff, python-multipart, orjson, h11, colorama, aiofiles, uvicorn, starlette, httpcore, httpx, gradio-client, fastapi, gradio\n",
            "  Attempting uninstall: typing-extensions\n",
            "    Found existing installation: typing_extensions 4.7.1\n",
            "    Uninstalling typing_extensions-4.7.1:\n",
            "      Successfully uninstalled typing_extensions-4.7.1\n",
            "Successfully installed aiofiles-23.2.1 colorama-0.4.6 fastapi-0.110.0 ffmpy-0.3.2 gradio-4.19.2 gradio-client-0.10.1 h11-0.14.0 httpcore-1.0.4 httpx-0.27.0 orjson-3.9.15 pydub-0.25.1 python-multipart-0.0.9 ruff-0.3.0 semantic-version-2.10.0 shellingham-1.5.4 starlette-0.36.3 tomlkit-0.12.0 typing-extensions-4.10.0 uvicorn-0.27.1 websockets-11.0.3\n",
            "Collecting feedparser\n",
            "  Downloading feedparser-6.0.11-py3-none-any.whl (81 kB)\n",
            "\u001b[2K     \u001b[90m━━━━━━━━━━━━━━━━━━━━━━━━━━━━━━━━━━━━━━━━\u001b[0m \u001b[32m81.3/81.3 kB\u001b[0m \u001b[31m2.4 MB/s\u001b[0m eta \u001b[36m0:00:00\u001b[0m\n",
            "\u001b[?25hCollecting sgmllib3k (from feedparser)\n",
            "  Downloading sgmllib3k-1.0.0.tar.gz (5.8 kB)\n",
            "  Preparing metadata (setup.py) ... \u001b[?25l\u001b[?25hdone\n",
            "Building wheels for collected packages: sgmllib3k\n",
            "  Building wheel for sgmllib3k (setup.py) ... \u001b[?25l\u001b[?25hdone\n",
            "  Created wheel for sgmllib3k: filename=sgmllib3k-1.0.0-py3-none-any.whl size=6048 sha256=c7e227538859a5853e97f78b310ecdf7e06f2fbb09370e9007b1209d7a1507bd\n",
            "  Stored in directory: /root/.cache/pip/wheels/f0/69/93/a47e9d621be168e9e33c7ce60524393c0b92ae83cf6c6e89c5\n",
            "Successfully built sgmllib3k\n",
            "Installing collected packages: sgmllib3k, feedparser\n",
            "Successfully installed feedparser-6.0.11 sgmllib3k-1.0.0\n",
            "Requirement already satisfied: transformers in /usr/local/lib/python3.10/dist-packages (4.38.1)\n",
            "Collecting accelerate\n",
            "  Downloading accelerate-0.27.2-py3-none-any.whl (279 kB)\n",
            "\u001b[2K     \u001b[90m━━━━━━━━━━━━━━━━━━━━━━━━━━━━━━━━━━━━━━━━\u001b[0m \u001b[32m280.0/280.0 kB\u001b[0m \u001b[31m5.4 MB/s\u001b[0m eta \u001b[36m0:00:00\u001b[0m\n",
            "\u001b[?25hRequirement already satisfied: filelock in /usr/local/lib/python3.10/dist-packages (from transformers) (3.13.1)\n",
            "Requirement already satisfied: huggingface-hub<1.0,>=0.19.3 in /usr/local/lib/python3.10/dist-packages (from transformers) (0.20.3)\n",
            "Requirement already satisfied: numpy>=1.17 in /usr/local/lib/python3.10/dist-packages (from transformers) (1.25.2)\n",
            "Requirement already satisfied: packaging>=20.0 in /usr/local/lib/python3.10/dist-packages (from transformers) (23.2)\n",
            "Requirement already satisfied: pyyaml>=5.1 in /usr/local/lib/python3.10/dist-packages (from transformers) (6.0.1)\n",
            "Requirement already satisfied: regex!=2019.12.17 in /usr/local/lib/python3.10/dist-packages (from transformers) (2023.12.25)\n",
            "Requirement already satisfied: requests in /usr/local/lib/python3.10/dist-packages (from transformers) (2.31.0)\n",
            "Requirement already satisfied: tokenizers<0.19,>=0.14 in /usr/local/lib/python3.10/dist-packages (from transformers) (0.15.2)\n",
            "Requirement already satisfied: safetensors>=0.4.1 in /usr/local/lib/python3.10/dist-packages (from transformers) (0.4.2)\n",
            "Requirement already satisfied: tqdm>=4.27 in /usr/local/lib/python3.10/dist-packages (from transformers) (4.66.2)\n",
            "Requirement already satisfied: psutil in /usr/local/lib/python3.10/dist-packages (from accelerate) (5.9.5)\n",
            "Requirement already satisfied: torch>=1.10.0 in /usr/local/lib/python3.10/dist-packages (from accelerate) (2.1.0+cu121)\n",
            "Requirement already satisfied: fsspec>=2023.5.0 in /usr/local/lib/python3.10/dist-packages (from huggingface-hub<1.0,>=0.19.3->transformers) (2023.6.0)\n",
            "Requirement already satisfied: typing-extensions>=3.7.4.3 in /usr/local/lib/python3.10/dist-packages (from huggingface-hub<1.0,>=0.19.3->transformers) (4.10.0)\n",
            "Requirement already satisfied: sympy in /usr/local/lib/python3.10/dist-packages (from torch>=1.10.0->accelerate) (1.12)\n",
            "Requirement already satisfied: networkx in /usr/local/lib/python3.10/dist-packages (from torch>=1.10.0->accelerate) (3.2.1)\n",
            "Requirement already satisfied: jinja2 in /usr/local/lib/python3.10/dist-packages (from torch>=1.10.0->accelerate) (3.1.3)\n",
            "Requirement already satisfied: triton==2.1.0 in /usr/local/lib/python3.10/dist-packages (from torch>=1.10.0->accelerate) (2.1.0)\n",
            "Requirement already satisfied: charset-normalizer<4,>=2 in /usr/local/lib/python3.10/dist-packages (from requests->transformers) (3.3.2)\n",
            "Requirement already satisfied: idna<4,>=2.5 in /usr/local/lib/python3.10/dist-packages (from requests->transformers) (3.6)\n",
            "Requirement already satisfied: urllib3<3,>=1.21.1 in /usr/local/lib/python3.10/dist-packages (from requests->transformers) (2.0.7)\n",
            "Requirement already satisfied: certifi>=2017.4.17 in /usr/local/lib/python3.10/dist-packages (from requests->transformers) (2024.2.2)\n",
            "Requirement already satisfied: MarkupSafe>=2.0 in /usr/local/lib/python3.10/dist-packages (from jinja2->torch>=1.10.0->accelerate) (2.1.5)\n",
            "Requirement already satisfied: mpmath>=0.19 in /usr/local/lib/python3.10/dist-packages (from sympy->torch>=1.10.0->accelerate) (1.3.0)\n",
            "Installing collected packages: accelerate\n",
            "Successfully installed accelerate-0.27.2\n",
            "Collecting openai\n",
            "  Downloading openai-1.13.3-py3-none-any.whl (227 kB)\n",
            "\u001b[2K     \u001b[90m━━━━━━━━━━━━━━━━━━━━━━━━━━━━━━━━━━━━━━━━\u001b[0m \u001b[32m227.4/227.4 kB\u001b[0m \u001b[31m4.6 MB/s\u001b[0m eta \u001b[36m0:00:00\u001b[0m\n",
            "\u001b[?25hRequirement already satisfied: anyio<5,>=3.5.0 in /usr/local/lib/python3.10/dist-packages (from openai) (3.7.1)\n",
            "Requirement already satisfied: distro<2,>=1.7.0 in /usr/lib/python3/dist-packages (from openai) (1.7.0)\n",
            "Requirement already satisfied: httpx<1,>=0.23.0 in /usr/local/lib/python3.10/dist-packages (from openai) (0.27.0)\n",
            "Requirement already satisfied: pydantic<3,>=1.9.0 in /usr/local/lib/python3.10/dist-packages (from openai) (2.6.3)\n",
            "Requirement already satisfied: sniffio in /usr/local/lib/python3.10/dist-packages (from openai) (1.3.1)\n",
            "Requirement already satisfied: tqdm>4 in /usr/local/lib/python3.10/dist-packages (from openai) (4.66.2)\n",
            "Requirement already satisfied: typing-extensions<5,>=4.7 in /usr/local/lib/python3.10/dist-packages (from openai) (4.10.0)\n",
            "Requirement already satisfied: idna>=2.8 in /usr/local/lib/python3.10/dist-packages (from anyio<5,>=3.5.0->openai) (3.6)\n",
            "Requirement already satisfied: exceptiongroup in /usr/local/lib/python3.10/dist-packages (from anyio<5,>=3.5.0->openai) (1.2.0)\n",
            "Requirement already satisfied: certifi in /usr/local/lib/python3.10/dist-packages (from httpx<1,>=0.23.0->openai) (2024.2.2)\n",
            "Requirement already satisfied: httpcore==1.* in /usr/local/lib/python3.10/dist-packages (from httpx<1,>=0.23.0->openai) (1.0.4)\n",
            "Requirement already satisfied: h11<0.15,>=0.13 in /usr/local/lib/python3.10/dist-packages (from httpcore==1.*->httpx<1,>=0.23.0->openai) (0.14.0)\n",
            "Requirement already satisfied: annotated-types>=0.4.0 in /usr/local/lib/python3.10/dist-packages (from pydantic<3,>=1.9.0->openai) (0.6.0)\n",
            "Requirement already satisfied: pydantic-core==2.16.3 in /usr/local/lib/python3.10/dist-packages (from pydantic<3,>=1.9.0->openai) (2.16.3)\n",
            "Installing collected packages: openai\n",
            "Successfully installed openai-1.13.3\n",
            "Collecting tiktoken\n",
            "  Downloading tiktoken-0.6.0-cp310-cp310-manylinux_2_17_x86_64.manylinux2014_x86_64.whl (1.8 MB)\n",
            "\u001b[2K     \u001b[90m━━━━━━━━━━━━━━━━━━━━━━━━━━━━━━━━━━━━━━━━\u001b[0m \u001b[32m1.8/1.8 MB\u001b[0m \u001b[31m10.9 MB/s\u001b[0m eta \u001b[36m0:00:00\u001b[0m\n",
            "\u001b[?25hRequirement already satisfied: regex>=2022.1.18 in /usr/local/lib/python3.10/dist-packages (from tiktoken) (2023.12.25)\n",
            "Requirement already satisfied: requests>=2.26.0 in /usr/local/lib/python3.10/dist-packages (from tiktoken) (2.31.0)\n",
            "Requirement already satisfied: charset-normalizer<4,>=2 in /usr/local/lib/python3.10/dist-packages (from requests>=2.26.0->tiktoken) (3.3.2)\n",
            "Requirement already satisfied: idna<4,>=2.5 in /usr/local/lib/python3.10/dist-packages (from requests>=2.26.0->tiktoken) (3.6)\n",
            "Requirement already satisfied: urllib3<3,>=1.21.1 in /usr/local/lib/python3.10/dist-packages (from requests>=2.26.0->tiktoken) (2.0.7)\n",
            "Requirement already satisfied: certifi>=2017.4.17 in /usr/local/lib/python3.10/dist-packages (from requests>=2.26.0->tiktoken) (2024.2.2)\n",
            "Installing collected packages: tiktoken\n",
            "Successfully installed tiktoken-0.6.0\n",
            "Collecting pypdf\n",
            "  Downloading pypdf-4.0.2-py3-none-any.whl (283 kB)\n",
            "\u001b[2K     \u001b[90m━━━━━━━━━━━━━━━━━━━━━━━━━━━━━━━━━━━━━━━━\u001b[0m \u001b[32m284.0/284.0 kB\u001b[0m \u001b[31m3.4 MB/s\u001b[0m eta \u001b[36m0:00:00\u001b[0m\n",
            "\u001b[?25hInstalling collected packages: pypdf\n",
            "Successfully installed pypdf-4.0.2\n"
          ]
        }
      ]
    },
    {
      "cell_type": "markdown",
      "source": [
        "#Section 1: Reading the PDF and identifying the key points using an LLM\n",
        "\n",
        "One could argue that Large Language Models (LLMs) being world models, they would already have all the information on the topic we care about. But there are some reasons why it still makes sense to consider creating your own text corpus:\n",
        "1. LLMs typically have a certain cut-off date and are trained on data that is not updated since. Therefore, it's likely that they do not have information about events and developments since that date. They might still be able to generate accurate responses but we can be less confident of their accuracy.\n",
        "2. There are also data sources that are private (like emails, personal journals, company powerpoints) that LLMs do not have access to but which we would still like to use as the basis for generating a personalized podcast.\n",
        "3. Using our own text corpus allows us to leverage the technical capabilities of the LLM while bringing our own intelligence, creativity and personal preferences to the task.\n",
        "\n",
        "In this section, we will read in the content of the PDF and summarize the key highlights of the article/ research paper/ book."
      ],
      "metadata": {
        "id": "ft5r_4-Febft"
      }
    },
    {
      "cell_type": "markdown",
      "source": [
        "## Reading the PDF and get the contents\n",
        "\n",
        "This is one of the ways in which we can import knowledge that is typically not indexed by search engines and generally private in nature. During the project kick-off I used an example of the annual report of a company but I'm sure that you will use something that is far more interesting and exciting 😃"
      ],
      "metadata": {
        "id": "9ApyGkKFlqOv"
      }
    },
    {
      "cell_type": "markdown",
      "source": [
        "We work with PDFs using the pypdf library. Provide the link to the URL to load the PDF.\n",
        "If you only have a local copy of the PDF, then you can upload it to the Colab environment as shown in the two steps of the screenshot and then use the path of the uploaded file.\n",
        "\n",
        "![Screenshot 2022-10-07 at 16.07.21.png](data:image/png;base64,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)"
      ],
      "metadata": {
        "id": "qL1IxmTMeBWh"
      }
    },
    {
      "cell_type": "code",
      "source": [
        "import requests\n",
        "import io\n",
        "from pypdf import PdfReader, PageRange\n",
        "\n",
        "# # Replace the URL below with the specific PDF URL you want to use\n",
        "# URL = \"YOUR_PDF_SOURCE_URL\"\n",
        "# response = requests.get(URL)\n",
        "# response.raise_for_status()\n",
        "# remote_file_bytes = io.BytesIO(response.content)\n",
        "# reader = PdfReader(remote_file_bytes)\n",
        "\n",
        "# Uncomment the below line and provide the path to the local PDF file you want to use\n",
        "reader = PdfReader(\"/content/Women’s Movement and Feminism in Central Asia.pdf\")\n",
        "\n",
        "# Listing the number of pages in the PDF file\n",
        "number_of_pages = len(reader.pages)\n",
        "print (number_of_pages)"
      ],
      "metadata": {
        "id": "FhCRg6A-Rp90",
        "colab": {
          "base_uri": "https://localhost:8080/"
        },
        "outputId": "b683d258-5a48-44f8-e5e6-db1edd13e466"
      },
      "execution_count": null,
      "outputs": [
        {
          "output_type": "stream",
          "name": "stdout",
          "text": [
            "10\n"
          ]
        }
      ]
    },
    {
      "cell_type": "markdown",
      "source": [
        "Depending on the number of pages and structure of your PDF, you may choose to only use a section of it. You can adapt the following code if you would like to pick certain sections of the PDF."
      ],
      "metadata": {
        "id": "mAygEfR7mR0p"
      }
    },
    {
      "cell_type": "code",
      "source": [
        "pages = PageRange('2:10').to_slice()\n",
        "selected_pages = reader.pages[pages]\n",
        "\n",
        "# in case you want to use the entire document\n",
        "# selected_pages = reader.pages"
      ],
      "metadata": {
        "id": "cu03Isolh1p9"
      },
      "execution_count": null,
      "outputs": []
    },
    {
      "cell_type": "code",
      "source": [
        "input_text = \"\"\n",
        "for page in selected_pages:\n",
        "    input_text += page.extract_text() + \"\\n\""
      ],
      "metadata": {
        "id": "QMkK5LO2SIaH"
      },
      "execution_count": null,
      "outputs": []
    },
    {
      "cell_type": "code",
      "source": [
        "\n",
        "input_text"
      ],
      "metadata": {
        "id": "pVBRcb5ZTRiT",
        "colab": {
          "base_uri": "https://localhost:8080/",
          "height": 268
        },
        "outputId": "7df984e9-b689-499c-e0fd-654af76d3961"
      },
      "execution_count": null,
      "outputs": [
        {
          "output_type": "execute_result",
          "data": {
            "text/plain": [
              "\"Networking\\nand\\ncommunication\\nseems\\nto\\nbe\\nthe\\nmost\\neffective\\nmeans\\nto\\nadvance\\nWomen's\\nsocio-political\\nmovement.\\nBut\\nstill\\none\\ncould\\nask\\nwhether\\nNet-working\\nis\\nnot\\nsynonymous\\nwith\\nNot-working?\\nThe\\nFeminist’ s\\nAnti-Feminism\\nThe\\nWomen's\\nmovement\\nin\\nour\\ncountry\\nnever\\nsaw\\nitself\\nas\\na\\nfeminist\\nsubject.\\nMoreover ,\\nrepresented\\nby\\nurban\\neducated\\nmiddle\\nclass\\nwomen\\nit\\nis\\noften\\nmet\\nwith\\nsuspicions\\nof\\nmale\\njournalistic\\ncommunity .\\nThey\\nquestion\\nthe\\nlegitimacy\\nof\\nthe\\nmovement\\non\\nbehalf\\nof\\nan\\nhomogeneous\\ncommunity\\nof\\nwomen\\nas\\nif\\nsuch\\nsituation\\nwas\\npossible\\nin\\nprinciple.\\nIn\\nthe\\nmedia\\nand\\nin\\nthe\\npublic\\nspace,\\nfeminism\\ncontinues\\nto\\nbe\\nassociated\\nprimarily\\nwith\\nradical\\nfeminism\\n.\\nWomen's\\nproblems\\nare\\nshown\\nmainly\\nin\\nthe\\ncontext\\nof\\nscarcity ,\\ndeprivation,\\nvulnerability .\\nFeminism\\nand\\nwomen's\\nmovement\\nare\\nevaluated\\nas\\na\\nnegative\\nproblem.\\nThe\\nlogical\\ncircle\\ncloses:\\nfeminism\\nappeals\\nto\\ncrucial\\nareas\\nof\\nlife.\\nThe\\nvulnerable\\npopulation\\nis\\nan\\nobject\\nof\\nsocial\\npolicy\\nand\\njustice,\\nan\\nissue\\nthat\\nis\\ndifficult\\nto\\ndeal\\nwith\\nand\\nis\\nnot\\nconsistent\\nwith\\nthe\\nlogic\\nof\\ncompetition\\nand\\npersonal\\nachievements.\\nWomen's\\nmovement\\nshould\\nbracket\\neconomic\\nsuccess\\nand\\nsocial\\nacceptance.\\nHence,\\nfeminist\\nmeans\\nmarginal.\\nWomen\\nwho\\nare\\nsuccessful\\nin\\nbusiness,\\npolitics\\nand\\nthe\\narts\\nare\\nnot\\nfeminists\\nby\\ndefinition.\\nIt\\nis\\na\\ncatch\\n22\\nsituation:\\nfeminists’ s\\npersonal\\nsuccess\\ncannot\\nbe\\nbased\\non\\nidentification\\nwith\\nthe\\nwomen's\\ncollective\\nentity .\\nDaily\\nvictimization\\nof\\nwomen,\\npreserving\\nthe\\nstatus\\nof\\nthe\\nvictim,\\nis\\nreproduced\\nin\\nby\\nthe\\nmedia\\nand\\nlumped\\ntogether\\nwith\\nissues\\nof\\nunemployment,\\npoverty ,\\nchildlessness,\\nviolence,\\nfixing\\na\\nmarginal\\nimage\\nof\\nwomen\\nand\\nof\\nwomen's\\nmovement.\\nOn\\nthe\\nother\\nhand,\\nwomen’ s\\nmovements\\nin\\nCentral\\nAsia\\nare\\nnot\\ninclined\\nto\\nact\\non\\nthe\\nprinciples\\nof\\nautonomy .\\nThere\\nis\\nno\\nideological\\nfoundation\\nfor\\nthis,\\nneither\\nin\\nthe\\nform\\nof\\nanarchism\\nnor\\nof\\ncultural\\nradical\\nfeminism.\\nUltimately ,\\nthe\\ngoal\\nof\\nfeminism\\nis\\nhard\\nto\\nachieve\\nin\\neither\\nversion\\nthrough\\nout\\nthe\\npursuit\\nof\\nequality\\nwith\\nmen,\\nand\\nby\\nemphasizing\\nwomen's\\notherness.\\nAs\\nan\\nintroduction\\nto\\nmy\\nessay,\\nI\\nwould\\nlike\\nto\\nemphasize\\nthat\\nKazakhstan\\nmay\\nhave\\nall\\nthe\\nsymptoms\\nof\\nthe\\n“shadow\\npandemic”\\n1\\nof\\nhate\\nor\\ndistrust\\nfor\\nwomen\\n(misogyny)\\nsimilar\\nto\\nother\\nCentral\\nAsian\\nand\\nother\\npost-Soviet\\n“-Stans”\\n(Kyrgyzstan,\\nTajikistan,\\nTurkmenistan\\nand\\nUzbekistan).\\nHowever,\\nit\\nwould\\nbe\\nremiss\\nto\\ntreat\\nits\\ncase\\nas\\na\\nblueprint\\nfor\\nevery\\nCentral\\nAsian\\ncountry.\\nAs\\nsomeone\\nwho\\nwas\\nborn\\nand\\nraised\\nin\\nKazakhstan,\\nI\\nunderstand\\nmy\\nprivilege\\nof\\nbeing\\nfrom,\\nwhat\\nis\\noften\\ndescribed,\\none\\nof\\nthe\\nmost\\nstable\\nand\\nprosperous\\nauthoritarian\\ncountries\\nin\\nthe\\nsubregion.\\nI\\nwould\\nalso\\nlike\\nto\\nhighlight\\nthat,\\nas\\ntempting\\nas\\nit\\nmay\\nseem,\\njudging\\na\\nwhole\\nsubregion\\nbased\\non\\none\\ncountry\\nwould\\nalways\\nbe\\nfallacious.\\nThus,\\nI\\noffer\\nmy\\nessay\\nto\\nanyone\\nwho\\nwishes\\nto\\nlearn\\nmore\\nabout\\nwhat\\nis\\nhappening\\nto\\nwomen\\nin\\nKazakhstan.\\nI\\nalso\\nwould\\nlike\\nanyone\\nwho\\nreads\\nit\\nand\\nis\\nnot\\nfrom\\nCentral\\nAsia\\nto\\nkeep\\nin\\nmind\\nthat\\ncontexts\\nshift\\nand\\nto\\ntreat\\nit\\nas\\none\\nof\\nmany\\nnarratives\\nof\\nCentral\\nAsian\\nwomen\\nwho\\ndeserve\\nto\\nbe\\nheard\\nand\\nunderstood.\\nViolence\\nagainst\\nKazakhstani\\nWomen\\nViolence\\nagainst\\nwomenis\\nglobally\\nrecognized\\nas\\na\\nviolation\\nof\\nfundamental\\nhuman\\nrights.\\nProgress\\ntowards\\ndismantling\\npatriarchy\\nand\\nachieving\\ngender\\nequality\\nis\\nnot\\na\\nstep-by-step\\nfight\\nwhere\\nfirst\\ncomes\\neradication\\nof\\nviolence\\nfollowed\\nby\\nsome\\n“minor”\\nproblems\\nsuch\\nas\\nequal\\npay\\nand\\nrepresentation.\\nGender\\nequality\\ncan\\nonly\\nbe\\nachieved\\nby\\nfighting\\nfor\\nall\\nwomen’s\\nrights\\nat\\nthe\\nsame\\ntime.\\nHowever,\\ngender-based\\nviolence\\ncontinues\\nto\\nbe\\na\\nparticularly\\ncruel\\nand\\npervasive\\nissue\\nthat\\nplagues\\nevery\\nsociety\\ntoday.\\nSome\\neven\\nsay\\nthat\\nit\\nseems\\nto\\nbe\\ngetting\\nworse\\nand\\nhopeless\\ngiven\\nthe\\nnumber\\nof\\nstories\\nthat\\nare\\nbeing\\nshared\\nthrough\\nsocial\\nmedia\\ntoday\\nabout\\nwomen\\nfalling\\nvictims\\nto\\ndomestic\\nabuse,\\nrape,\\nand\\nmurder.\\nHowever,\\nas\\nI\\nwould\\nargue,\\nwhat\\nwe\\nare\\nseeing\\nin\\nKazakhstan\\ntoday\\nis\\nnot\\nnecessarily\\nan\\nindicator\\nof\\nhopelessness.\\nOn\\nthe\\nopposite,\\nit\\ncould\\nbe\\nthat\\nfor\\nthe\\nfirst\\ntime\\nin\\ndecades,\\nthere\\nis\\nmore\\nhope\\nthan\\nthere\\never\\nwas\\nbefore.\\nIn\\nmy\\nresearch\\non\\nthe\\nways\\nthrough\\nwhich\\nthe\\nnationalist\\nrhetoric\\nin\\nKazakhstan\\nnormalizes\\ngender-based\\nviolence\\nwith\\n“re-traditionalization,”\\n2\\na\\ndiscourse\\nanalysis\\nof\\nthe\\nsocial\\nmedia\\ncontent\\non\\nInstagram\\nand\\nFacebook\\ndemonstrated\\na\\ndangerous\\npervasiveness\\nof\\nvictim-blaming\\nand\\nequating\\nmisogynistic\\npractices\\nwith\\ncore\\nKazakh\\ncultural\\nvalues.\\nKazakhstan,\\nsimilar\\nto\\nmany\\nother\\ncountries\\nin\\nthe\\nworld\\nright\\nnow,\\nhas\\nnot\\nbeen\\nimmune\\nfrom\\nthe\\nrise\\nof\\nright-wing\\nnationalism\\nthat\\nutilizes\\nwomen’s\\nbodies\\nas\\nmarkers\\nof\\ncultural\\nand\\nethnic\\nborders.\\nKazakhstani\\nwomen\\nwho\\nshare\\ntheir\\nstories\\nof\\nabuse\\nand\\ntrauma\\nare\\ncontinuously\\ngaslighted\\nand\\ntheir\\ninnocence\\nis\\nquestioned\\nin\\nthe\\npublic\\ndiscourse,\\nwhile\\nproper\\nlegal\\npunishment\\nis\\nrarely\\nmeted\\nout.\\nOne\\nof\\nthe\\nmost\\ncontroversial\\nrecent\\ncases\\nis\\nthe\\n2018\\nTalgo\\ncase\\nabout\\nthe\\nrape\\nof\\na\\nwoman\\nby\\ntwo\\ntrain\\nconductors\\nin\\nher\\nown\\ntrain\\ncompartment\\nduring\\na\\nnight\\ntrip.\\n3\\nThe\\ndetails\\nof\\nwhat\\nhappened\\nthat\\nnight\\nand\\nthe\\nwoman’s\\nbehavior\\nincluding\\ndrinking\\nhabits,\\nage,\\nand\\nintellectual\\nabilities\\nhave\\nbecome\\na\\ntopic\\nof\\navid\\ndiscussion.\\nThe\\nvictim\\nhas\\nbeen\\nblamed\\nfor\\nsuch\\nirrelevant\\nthings\\nas\\nnot\\nclosing\\nthe\\ndoor\\nof\\nher\\ncompartment\\nand\\ntalking\\nto\\nthe\\nconductors\\nhours\\nprior\\nto\\nthe\\nattack.\\nThis\\ncase\\nserves\\nas\\na\\ngood\\nexample\\nof\\nhow\\ngender-based\\nviolence\\nis\\nperpetuated\\namong\\npeople\\nby\\ndiscussing\\nthis\\nviolence\\nin\\nconnection\\nwith\\neveryday\\nconversations\\non\\nthe\\nroles\\nof\\nwomen\\nin\\nsociety.\\nThe\\nKazakhstani\\ngovernment\\nview\\non\\nthis\\nissue\\nseems\\nto\\nmyopically\\nfocus\\non\\nwomen\\nas\\nmothers,\\nwives,\\nand\\ndaughters\\nrather\\nthan\\nfully\\nequal\\nmembers\\nof\\nthe\\nsociety,\\nwhich\\nis\\nwhat\\nthe\\nConstitution\\nof\\nthe\\ncountry\\nprovides\\nat\\nleast\\non\\npaper.\\nFor\\ninstance,\\nthe\\nhigh\\ndivorce\\nrate\\ncontinues\\nto\\nbe\\ndiscussed\\nas\\na\\ngender\\nequality\\nissue\\nthat\\nneeds\\nto\\nbe\\novercome\\nwith\\nmultimillion\\nbudgets\\nand\\nresources\\npropagating\\n“traditional\\nethnocultural\\nvalues,”\\nwhich\\nimply\\nheteronormative\\n4\\ngender\\nroles\\nof\\na\\nman\\nbeing\\nthe\\nbreadwinner\\nand\\nthe\\nleader\\nof\\nthe\\nfamily\\nand\\na\\nwoman\\nbeing\\na\\nmalleable\\nfigure\\nwhose\\nmain\\npurpose\\nis\\nto\\nraise\\nchildren.\\nThere\\nis\\nno\\ncritical\\ndiscussion\\nof\\nthe\\nreasons\\nwhy\\nso\\nmany\\nwomen\\nchoose\\nto\\nleave\\ntheir\\nmarriage\\nand\\nthe\\nrelation\\nof\\nthe\\ndivorce\\nrate\\nto\\na\\nhigh\\nrate\\nof\\ndomestic\\nabuse\\nin\\nthe\\ncountry.\\nAccording\\nto\\nUN\\nWomen,\\nabout\\nfour\\nhundred\\nwomen\\nin\\nKazakhstan\\nare\\nkilled\\nannually\\nas\\na\\nresult\\nof\\ndomestic\\nabuse.\\n5\\nIn\\n2017,\\nNursultan\\nNazarbayev,\\nthen\\nPresident\\nof\\nthe\\ncountry\\nand\\nholder\\nof\\nthe\\ntitle\\n“Leader\\nof\\nthe\\nNation,”\\ndecriminalized\\ndomestic\\nviolence\\nand\\nmade\\nit\\na\\nmere\\nadministrative\\noffense,\\nwhich\\neffectively\\ncontributed\\nto\\nthe\\ncasualization\\nof\\ndomestic\\nabuse.\\n6\\nPolicy\\nagainst\\nVAW\\n2019\\nwas\\na\\ntumultuous\\nyear\\nfor\\nKazakhstan\\nwith\\nthe\\ntransition\\nof\\npower\\nfrom\\nNazarbayev\\nto\\nQasym-Zhomart\\nToqayev\\nand\\na\\ngrowing\\nunrest\\namong\\nthe\\npublic\\nspilling\\ninto\\npeaceful\\nprotests\\nand\\na\\nsurge\\nof\\npolitical\\nand\\ncivil\\nactivism.\\n7\\nVAW\\nseems\\nto\\nhave\\nbecome\\none\\nof\\nthe\\nfront\\nissues\\nin\\nthe\\nturning\\npoint\\nof\\nindependent\\nKazakhstan’s\\nhistory.\\nFor\\nthe\\nfirst\\ntime\\nin\\nyears,\\nPresident\\nToqayev\\naddressed\\nrape\\nas\\nan\\nimportant\\nproblem\\nand\\ncalled\\nfor\\nmore\\nstringent\\nand\\nthorough\\npunishment\\nfor\\nit.\\nHowever,\\nthe\\nprogress\\nso\\nfar\\nseems\\nto\\nbe\\nartificial\\nin\\nnature.\\nNot\\nlong\\nafter\\nhis\\ncondemnation\\nof\\nrape\\nof\\nwomen\\n(which\\nalso\\ninstilled\\nheteronormativity\\n8\\non\\nthe\\nissue),\\nPresident\\nToqayev\\nsigned\\na\\nnew\\nlaw\\nwith\\na\\nprovision\\nthat\\nchanged\\nthe\\nprevious\\npenalty\\nof\\nfine\\nto\\na\\nsimple\\nwarning\\nfor\\nfirst-time\\ndomestic\\nviolence\\nabusers.\\nWith\\nsuch\\ncontinuous\\ndecriminalization\\nof\\ngender-based\\nviolence,\\nthe\\nKazakhstani\\ngovernment\\nappears\\nto\\nbe\\ngoing\\nbackward\\nby\\nreforming\\nexisting\\nlaws\\nto\\noffer\\neven\\nless\\nprotection\\nfor\\nwomen.\\nHowever,\\nI\\nbelieve\\nthat\\nthe\\nmost\\nimportant\\nthing\\nto\\nunderstand\\nhere\\nis\\nthat\\nthe\\nactual\\nsituation\\nof\\nwomen\\nin\\nKazakhstan\\nlies\\nbeneath\\nthe\\nlaws\\nand\\npolicies.\\nThese\\nlaws\\nand\\npolicies\\ncan\\nonly\\naccount\\nfor\\nso\\nmuch\\nthat\\nis\\nhappening\\nin\\na\\ncountry\\nwith\\nrampant\\ncorruption\\nand\\nconstant\\ncrackdowns\\non\\ncivil\\nliberties.\\nOn\\npaper,\\nKazakhstan\\nhas\\nratified\\nthe\\nConvention\\non\\nthe\\nElimination\\nof\\nAll\\nForms\\nof\\nDiscrimination\\nAgainst\\nWomen\\n(CEDAW)\\nand\\nhas\\ncontinuously\\npledged\\nallegiance\\nto\\nthe\\ngoal\\nof\\nachieving\\ngender\\nequality\\nin\\nthe\\ncountry.\\n9\\nThis\\nhas\\nhelped\\nNursultan\\nNazarbayev\\nand\\nhis\\nauthoritarian\\nregime\\nto\\nwindow\\ndress\\nthe\\ncountry\\nas\\nan\\nappropriate\\nally\\nand\\npartner\\nof\\nliberal\\ndemocracies\\nof\\nthe\\nWest.\\nWhile\\nthe\\nlegal\\nprotection\\nof\\nvictims\\nof\\ngender-based\\nviolence\\ngrows\\nweaker,\\na\\nmore\\nimportant\\nissue\\nis\\nthe\\nunderreporting\\nand\\nmisunderstanding\\nof\\nsuch\\nviolence.\\nIt\\nhas\\nbecome\\nnormal\\nin\\nthe\\ndaily\\nlife\\nof\\nKazakhstani\\npeople\\nto\\nhear\\nmisogynistic\\njokes\\nand\\n“vines”\\n10\\nthat\\ndepict\\nsurvivors\\nof\\ngender-based\\nviolence\\nas\\nhysterical,\\nconniving\\nor\\nboth.\\nMovement\\nfor\\nChange\\nA\\ncrucial\\nelement\\nthat\\nlies\\nbeneath\\nthe\\nsurface\\nis\\na\\nrapidly\\ngrowing\\nfeminist\\nmovement\\nin\\nthe\\ncountry.\\nIt\\nis\\nimportant\\nto\\nnote\\nhere\\nthat\\nwhile\\nsocial\\nmedia\\nhas\\nbeen\\ndisseminating\\nin\\nrecent\\nyears\\nideas\\nand\\ninformation\\non\\ngender\\nequality\\nfrom\\nvarious\\nsources,\\nKazakhstani\\nfeminist\\nactivists\\nhave\\nbeen\\nworking\\nfor\\ndecades\\naway\\nfrom\\nthe\\nlimelight.\\nThey\\nhave\\nbeen\\nhelping\\nother\\nwomen\\nand\\nadvocating\\nfor\\ngender\\nequality\\nby\\nestablishing\\nnon-profit\\nadvocacy\\norganizations,\\nopening\\nmakeshift\\nshelters\\nand\\ncrisis\\ncenters,\\netc.\\nRecently,\\nsocial\\nmedia\\nhas\\nbeen\\nproviding\\nan\\nunprecedented\\nlevel\\nof\\nexposure\\nto\\nfeminist\\norganizations\\nand\\nactivists\\nin\\nKazakhstan\\nthat\\nkeeps\\nthe\\npublic\\nconversation\\nabout\\nviolence\\nagainst\\nwomen\\ngoing.\\nFrom\\nart\\nprojects\\nto\\npetitions\\nand\\nmarches,\\nwomen\\nin\\nKazakhstan\\nare\\ntaking\\nmore\\nvirtual\\nand\\nphysical\\npublic\\nspaces\\nthan\\never\\nbefore.\\nThis\\nnovel\\nexposure\\nof\\nthe\\nextent\\nof\\nsuffering\\nfrom\\nVAW\\nin\\nKazakhstan\\nmay\\nbe\\ndisheartening\\nto\\nmany\\nand\\ngive\\na\\nfeeling\\nof\\nhopelessness.\\nHowever,\\nin\\nthe\\npast\\nyear,\\nI\\nhave\\npersonally\\nnoticed\\nmore\\nand\\nmore\\npeople\\nactively\\nengaging\\nwith\\nquestions\\nof\\nfeminism,\\ngender\\nequality,\\nand\\nviolence\\nagainst\\nwomen\\nin\\ndifferent\\nforms\\nand\\ndegrees\\nof\\ninvolvement.\\nEducation\\nabout\\nthese\\nissues\\ntakes\\nplace\\nin\\nreal-life\\nmeet-ups,\\npress\\nconferences,\\nsocial\\nmedia\\nposts,\\nonline\\nlectures\\nand\\npanels,\\nand\\narticles\\nin\\nonline\\nmagazines.\\nIt\\nis\\nstill\\nsad\\nto\\nsee\\nthat\\nthe\\nburden\\nof\\nraising\\nawareness\\nabout\\nviolence\\nagainst\\nwomen\\nlays\\non\\nthe\\nshoulders\\nof\\nwomen\\nthemselves.\\nBut\\nthe\\nwomen\\nin\\nKazakhstan\\nhave\\nbeen\\nturning\\nthis\\nburden\\ninto\\na\\nmomentum\\nof\\nchange.\\nThe\\nfirst\\nInternational\\nWomen’s\\nDay\\nfeminist\\nmarch\\nwas\\nheld\\nin\\nAlmaty\\non\\n8\\nMarch\\n2020\\nwith\\nmore\\nthan\\ntwo\\nhundred\\nparticipants.\\n11\\nBefore\\nthat,\\non\\n28\\nSeptember\\n2019,\\na\\npeaceful\\nfeminist\\nprotest\\nagainst\\ngender-based\\nviolence\\nwas\\norganized\\nin\\nthe\\nsame\\ncity\\nfor\\nthe\\nfirst\\ntime\\nin\\nthe\\nhistory\\nof\\nindependent\\nKazakhstan.\\n12\\nKazakhstani\\nwomen\\nmarching\\nagainst\\nVAW\\nand\\nsexism\\non\\n8\\nMarch\\n2020\\nin\\nAlmaty\\nKazakhstan.\\n(Photo:\\nYuna\\nKorostelyova,\\nVlast.kz)\\n\\nPeaceful\\nprotesters\\nduring\\nthe\\nfirst\\nsanctioned\\nfeminist\\ndemonstration\\nin\\nthe\\nhistory\\nof\\nthe\\ncountry\\non\\n28\\nSeptember\\n2019\\nin\\nAlmaty,\\nKazakhstan.\\n(Photo:\\nInformburo.kz)\\nReflections\\nWomen\\nhave\\ncarried\\na\\nsignificant\\nweight\\nof\\norganizing\\nand\\npushing\\npro-democratic\\nchange\\nin\\nthe\\ncountry\\nfor\\nthe\\npast\\nyear,\\nwhich\\nfits\\nthe\\nubiquitous\\nhistorical\\npattern\\nof\\nwomen\\nbeing\\nthe\\nfaces\\nand\\nengines\\nof\\nchange.\\nFrom\\nAsya\\nTulesova,\\na\\npolitical\\nand\\nenvironmental\\nactivist\\nwho\\nis\\nunjustly\\nprosecuted\\nby\\nthe\\nKazakhstani\\ngovernment,\\nto\\nAssem\\nZhapisheva,\\nDinara\\nSmailova,\\nZhanar\\nSekerbayeva,\\nand\\nmany\\nothers,\\nwomen\\nin\\nKazakhstan\\nare\\nby\\nno\\nmeans\\npassive\\nsubjects\\nof\\nthe\\nregime\\nand\\nthe\\npatriarchy.\\nThus,\\nwhile\\nit\\nseems\\nthat\\nso\\nmany\\nmore\\npeople\\nbecome\\nvictims\\nof\\ngender-based\\nviolence\\nand\\nthe\\ngovernment\\nis\\nnot\\nin\\na\\nhurry\\nto\\nprotect\\nthem\\nand\\nchallenge\\nits\\npatriarchal\\nstructure,\\nKazakhstani\\nfeminist\\nactivists\\ncontinue\\nthe\\nwork\\nof\\neducating,\\nraising\\nawareness,\\nand\\nfighting\\nfor\\neach\\nother,\\nand,\\ntherefore,\\nattracting\\nmore\\nand\\nmore\\nattention\\nto\\nthe\\nissue\\nof\\nVAW.\\nThere\\nis\\n\\nstill\\na\\nlong\\nway\\nto\\ngo\\nfor\\nKazakhstan,\\nCentral\\nAsia,\\nand\\nthe\\nrest\\nof\\nthe\\nworld\\nin\\neliminating\\ngender-based\\nviolence,\\nbut\\nthe\\nwork\\nof\\nthe\\ngrassroots\\nfeminist\\nmovement\\nin\\nthe\\ncountry\\ncannot\\nremain\\nunacknowledged.\\n\""
            ],
            "application/vnd.google.colaboratory.intrinsic+json": {
              "type": "string"
            }
          },
          "metadata": {},
          "execution_count": 5
        }
      ]
    },
    {
      "cell_type": "markdown",
      "source": [
        "## Understanding Tokens & the Context Window"
      ],
      "metadata": {
        "id": "DGmNALG7n1Lg"
      }
    },
    {
      "cell_type": "markdown",
      "source": [
        "When working with LLMs, you must remember that each model-type has a restricted **context window**. This is the amount of text that you can use in the prompt for that model-type. For e.g. `text-davinci-003` and `gpt-3.5-turbo` can accept a maximum input of 4096 tokens whereas newer models like `gpt-4` can take upto 32k and even 128k tokens. The pricing of requests to the OpenAI API is also based on the number of tokens, for e.g. `gpt-3.5-turbo` costs $0.002 / 1K tokens.\n",
        "\n",
        "### But what are tokens?\n",
        "\n",
        "Tokens are the level at which these LLMs operate. They are trained to predict the next token in order to complete the sentence and so could be viewed as analogous to words. However, this is not completely accurate as tokens can also be parts of words. Let's use the `tiktoken` library from OpenAI to see how an example sentence would be tokenized and also use that to estimate the total number of tokens in our input text."
      ],
      "metadata": {
        "id": "viEFz1adDrjj"
      }
    },
    {
      "cell_type": "code",
      "source": [
        "import tiktoken\n",
        "enc = tiktoken.encoding_for_model(\"gpt-3.5-turbo\")\n",
        "token_list = enc.encode(\"Tokens are great!\")"
      ],
      "metadata": {
        "id": "W4XiPWb0dTi8"
      },
      "execution_count": null,
      "outputs": []
    },
    {
      "cell_type": "code",
      "source": [
        "token_list"
      ],
      "metadata": {
        "id": "mBwceQ3RaIar",
        "colab": {
          "base_uri": "https://localhost:8080/"
        },
        "outputId": "682dea91-9440-4696-ce43-6f7da8b2c621"
      },
      "execution_count": null,
      "outputs": [
        {
          "output_type": "execute_result",
          "data": {
            "text/plain": [
              "[30400, 527, 2294, 0]"
            ]
          },
          "metadata": {},
          "execution_count": 36
        }
      ]
    },
    {
      "cell_type": "code",
      "source": [
        "for token in token_list:\n",
        "  print (\"Token \", str(token), \" decodes to \", enc.decode([token]))"
      ],
      "metadata": {
        "id": "E8Wu4SOAG_-c",
        "colab": {
          "base_uri": "https://localhost:8080/"
        },
        "outputId": "17c93e69-6a60-49ec-f288-496a123ca9a1"
      },
      "execution_count": null,
      "outputs": [
        {
          "output_type": "stream",
          "name": "stdout",
          "text": [
            "Token  30400  decodes to  Tokens\n",
            "Token  527  decodes to   are\n",
            "Token  2294  decodes to   great\n",
            "Token  0  decodes to  !\n"
          ]
        }
      ]
    },
    {
      "cell_type": "markdown",
      "source": [
        "So we can see that the way OpenAI tokenizes our text is not exactly analogous to words as the word - \"CoRise\" has been tokenized into three tokens - \"Co\", \"R\" & \"ise\". The way that a model tokenizes our text impacts how many tokens and therefore the length of text that can be accepted in a single API request as well as the pricing -> more token, more the cost!\n",
        "\n",
        "Let's determine the number of tokens in our text corpus."
      ],
      "metadata": {
        "id": "DAeOEe_lHycZ"
      }
    },
    {
      "cell_type": "code",
      "source": [
        "## Please the variable as pdf_input, wiki_input, or book_input based on your choice\n",
        "print (\"Number of tokens in corpus \", len(enc.encode(input_text)))"
      ],
      "metadata": {
        "id": "6N12SKtEIh7s",
        "colab": {
          "base_uri": "https://localhost:8080/"
        },
        "outputId": "f4b65469-363d-4302-80a8-5994a4319c0b"
      },
      "execution_count": null,
      "outputs": [
        {
          "output_type": "stream",
          "name": "stdout",
          "text": [
            "Number of tokens in corpus  4515\n"
          ]
        }
      ]
    },
    {
      "cell_type": "markdown",
      "source": [
        "The number of tokens will depend on the type of PDF you chose. Books can be rather large, research papers will have much lesser number of tokens and news articles or reports will be the least. Most certainly you would easily exceed the context window of 4096 tokens for the base model `gpt-3.5-turbo`!\n",
        "\n"
      ],
      "metadata": {
        "id": "YpppG43tbPl5"
      }
    },
    {
      "cell_type": "markdown",
      "source": [
        "We need to consider that in addition to the input text, we will also have to add the the Prompt that will provide instructions to the LLM. This is not considered a separate field and is counted towards the context window. Therefore, we need to find a way to deal with input texts that exceed the token limit.\n",
        "\n",
        "What would happen if we do not handle these scenarios - it would result in the tokens at the end of our content being cut-off and not actually sent in the request to the LLM. Depending on the use-case this may or may not have critical implications."
      ],
      "metadata": {
        "id": "bMUUpSERp_gZ"
      }
    },
    {
      "cell_type": "markdown",
      "source": [
        "We will design a series of steps that will split the input text into multiple chunks that satisfy the prompt limit. This also means that we will have to make multiple requests to the API and then collate all the responses after all responses have been received.\n",
        "\n",
        "We will start by splitting the input text into logical sub-parts - sentences with the help of the NLTK library."
      ],
      "metadata": {
        "id": "6gbsrdlNrSYU"
      }
    },
    {
      "cell_type": "code",
      "source": [
        "import nltk\n",
        "nltk.download('punkt')\n",
        "from nltk.tokenize import sent_tokenize\n",
        "\n",
        "def split_text (input_text):\n",
        "  split_texts = sent_tokenize(input_text)\n",
        "  return split_texts"
      ],
      "metadata": {
        "id": "FulRVvWXX_wa",
        "colab": {
          "base_uri": "https://localhost:8080/"
        },
        "outputId": "84b6a5a9-4de0-4e8a-f6fb-d58313c2526c"
      },
      "execution_count": null,
      "outputs": [
        {
          "output_type": "stream",
          "name": "stderr",
          "text": [
            "[nltk_data] Downloading package punkt to /root/nltk_data...\n",
            "[nltk_data]   Package punkt is already up-to-date!\n"
          ]
        }
      ]
    },
    {
      "cell_type": "markdown",
      "source": [
        "Once the entire input text has been broken up into sentences we now join them up in such a way that we create chunks for each prompt. We keep adding sentences to a prompt chunk till we reach the max token length for that prompt. We set the max_token_len = 2000 in this case to ensure that we have enough spare room for our prompt instruction."
      ],
      "metadata": {
        "id": "osYpzwQmU4wK"
      }
    },
    {
      "cell_type": "code",
      "source": [
        "def create_chunks(split_sents, max_token_len=2000):\n",
        "  current_token_len = 0\n",
        "  input_chunks = []\n",
        "  current_chunk = \"\"\n",
        "  for sents in split_sents:\n",
        "    sent_token_len = len(enc.encode(sents))\n",
        "    if (current_token_len + sent_token_len) > max_token_len:\n",
        "      input_chunks.append(current_chunk)\n",
        "      current_chunk = \"\"\n",
        "      current_token_len = 0\n",
        "    current_chunk = current_chunk + sents\n",
        "    current_token_len = current_token_len + sent_token_len\n",
        "  if current_chunk != \"\":\n",
        "    input_chunks.append(current_chunk)\n",
        "  return input_chunks"
      ],
      "metadata": {
        "id": "Nz5cP3dwYmq6"
      },
      "execution_count": null,
      "outputs": []
    },
    {
      "cell_type": "markdown",
      "source": [
        "You can try the splitting function on the input text that you have created to see what happens."
      ],
      "metadata": {
        "id": "pj27b-iTsFdC"
      }
    },
    {
      "cell_type": "code",
      "source": [
        "split_sents = split_text(input_text)\n",
        "input_chunks = create_chunks(split_sents, max_token_len=2000)"
      ],
      "metadata": {
        "id": "59n9DN0HJXEb"
      },
      "execution_count": null,
      "outputs": []
    },
    {
      "cell_type": "code",
      "source": [
        "len(input_chunks)"
      ],
      "metadata": {
        "id": "4SLxepo7NSjy",
        "colab": {
          "base_uri": "https://localhost:8080/"
        },
        "outputId": "fd02aff0-3b15-4571-eabd-290dcb73e008"
      },
      "execution_count": null,
      "outputs": [
        {
          "output_type": "execute_result",
          "data": {
            "text/plain": [
              "3"
            ]
          },
          "metadata": {},
          "execution_count": 41
        }
      ]
    },
    {
      "cell_type": "markdown",
      "source": [
        "Identify how many chunks you have created and ensure that a chunk has not been trimmed at the middle of a sentence. We will move towards the next step of summarizing this information."
      ],
      "metadata": {
        "id": "LT0lAr_1sPAl"
      }
    },
    {
      "cell_type": "markdown",
      "source": [
        "## Summarizing the text using an LLM\n",
        "\n",
        "In this section we will design a prompt for the LLM to take in the input text corpus and create a summary. We do this to identify the key highlights of the chosen topic so that we can subsequently generate the podcast script based on that.\n",
        "\n",
        "Keep in mind that a generic summary will probably be too short and not have enough context to explore in a podcast discussion."
      ],
      "metadata": {
        "id": "L2yIBCyweOfS"
      }
    },
    {
      "cell_type": "markdown",
      "source": [
        "Please create an account with OpenAI that will allow us to access the API by visiting this [link](https://platform.openai.com) and creating an account with a method of your choice. Once created, please naviagate to the `Manage Accounts` section of your profile and look-up the `Usage` tab. By default, most new accounts automatically get $5 of credit to try the API and this should be enough for the purposes of this project.\n",
        "\n",
        "Please also visit the `API Keys` tab and Create a new secret key and copy this and keep it available. We will use this API key in subsequent steps while making the API calls.\n",
        "\n"
      ],
      "metadata": {
        "id": "TaFMFdl9XB4e"
      }
    },
    {
      "cell_type": "markdown",
      "source": [
        "While we can use the API and make calls directly, it's much easier to work with the Python library provided by OpenAI called - `openai` 🤭. Let's install the package and also test whether it works with our API key."
      ],
      "metadata": {
        "id": "FUKFY9pFtwJZ"
      }
    },
    {
      "cell_type": "markdown",
      "source": [
        "Once you have copied the API key, please click the Security Key icon on the left hand tab of the Google Colab notebook and then add a new parameter value called `test_new`. Here you can provide the API key that you copied and this will not be part of your Google Colab account. You can also enable the toggle Notebook access - this will allow your notebook to have access to this API key."
      ],
      "metadata": {
        "id": "dXlSSKyPXyme"
      }
    },
    {
      "cell_type": "markdown",
      "source": [],
      "metadata": {
        "id": "nGeNJkkhBBQr"
      }
    },
    {
      "cell_type": "code",
      "source": [
        "from openai import OpenAI\n",
        "from google.colab import userdata\n",
        "\n",
        "client = OpenAI(api_key=userdata.get('test_new'))"
      ],
      "metadata": {
        "id": "0Cv81k67ZNZM"
      },
      "execution_count": null,
      "outputs": []
    },
    {
      "cell_type": "markdown",
      "source": [
        "**Instructing chatGPT to create a summary from our source text corpus**\n",
        "\n",
        "We are at the point where we have created chunks for our source text and now it's time to work with `gpt-3.5-turbo` model to generate the summary for our podcast. Please fill in the text prompt below:\n",
        "\n",
        "- Keep in mind that you don't want just a regular summary - there should be enough information to create a podcast conversation\n",
        "- Keep in mind that information is returned in a structured way so that you can easily parse and re-use for the next step"
      ],
      "metadata": {
        "id": "5qLR2bilsxLL"
      }
    },
    {
      "cell_type": "markdown",
      "source": [
        "**HINT**: You can try and run your prompts first using the [chatGPT Web interface](https://chat.openai.com/) to see how it's working. This is manual because you will have to copy-paste the actual text information but you will save up on the cost of tokens compared to running it via the API."
      ],
      "metadata": {
        "id": "yVhG2WBqXs4p"
      }
    },
    {
      "cell_type": "code",
      "source": [
        "instructPrompt = \"\"\"\n",
        "Summarize the key points of the Women’s Movement and Feminism in Central Asia, highlighting historical challenges, current issues, and potential strategies for progress. Structure the summary to engage a podcast audience with progressive and anti colonial values and also make it sound casual. Ensure that the summary is insightful, offering listeners clear takeaways and encourages further discussion on effective strategies for advocating women's rights and equality in Central Asia.\n",
        "\"\"\""
      ],
      "metadata": {
        "id": "BmZlpif2fa7k"
      },
      "execution_count": null,
      "outputs": []
    },
    {
      "cell_type": "code",
      "source": [
        "requestMessages = []\n",
        "for text in input_chunks:\n",
        "  requestMessage = instructPrompt + '\\n' + text\n",
        "  requestMessages.append(requestMessage)"
      ],
      "metadata": {
        "id": "ufYJ4BAierR5"
      },
      "execution_count": null,
      "outputs": []
    },
    {
      "cell_type": "code",
      "source": [
        "chatOutputs = []\n",
        "for request in requestMessages:\n",
        "  chatOutput = client.chat.completions.create(model=\"gpt-3.5-turbo\",\n",
        "                                            messages=[{\"role\": \"system\", \"content\": \"You are a helpful assistant.\"},\n",
        "                                                      {\"role\": \"user\", \"content\": request}\n",
        "                                                      ]\n",
        "                                            )\n",
        "  chatOutputs.append(chatOutput)"
      ],
      "metadata": {
        "id": "ImEZ-y0KfwoO"
      },
      "execution_count": null,
      "outputs": []
    },
    {
      "cell_type": "code",
      "source": [
        "podcastFacts = \"\"\n",
        "for chats in chatOutputs:\n",
        "  podcastFacts = podcastFacts + chats.choices[0].message.content"
      ],
      "metadata": {
        "id": "zu2EMitxgGNi"
      },
      "execution_count": null,
      "outputs": []
    },
    {
      "cell_type": "code",
      "source": [
        "podcastFacts"
      ],
      "metadata": {
        "id": "XcSgvriQh8nU",
        "colab": {
          "base_uri": "https://localhost:8080/",
          "height": 268
        },
        "outputId": "5e7ee826-59b0-47fd-a703-11d0ebe60583"
      },
      "execution_count": null,
      "outputs": [
        {
          "output_type": "execute_result",
          "data": {
            "text/plain": [
              "\"In Central Asia, the Women's Movement faces historical challenges and current issues in advocating for gender equality. The movement is often met with suspicion and resistance, especially from the media and society, which tend to associate feminism with radicalism and view women's issues in a negative light, focusing on scarcity and vulnerability. Successful women in business, politics, and the arts are sometimes not identified as feminists, creating a paradox where personal success may not align with collective feminist identity.\\n\\nThere is a need for greater networking and communication to advance the socio-political movement for women's rights. However, the movement struggles with perceptions of feminism and autonomy, as well as societal norms that perpetuate victim-blaming and marginalize women's issues. In addressing violence against women, it is crucial to dismantle patriarchal structures and fight for all women's rights simultaneously, rather than prioritizing issues in a step-by-step manner.\\n\\nIn Kazakhstan, as in other Central Asian countries, gender-based violence remains a significant challenge, exacerbated by nationalist rhetoric and victim-blaming practices that normalize abusive behavior. The rise of right-wing nationalism has further complicated the situation, using women's bodies as cultural markers and undermining efforts to seek justice for victims of violence.\\n\\nTo make progress in advocating for women's rights in Central Asia, it is essential to challenge societal norms, promote inclusivity, and empower women to speak out against gender-based violence. By fostering dialogue, raising awareness, and building solidarity, the Women's Movement can work towards a more equitable and just society for all individuals.Welcome, dear listeners. Today, let's dive into the Women’s Movement and Feminism in Central Asia, focusing on the case of Kazakhstan. \\n\\nIn Kazakhstan, the government's narrow focus on women as traditional figures - mothers, wives, and daughters - rather than as fully equal members of society, has perpetuated issues like high divorce rates and domestic abuse. Shockingly, about four hundred women are killed annually due to domestic violence. The decriminalization of domestic abuse by former President Nursultan Nazarbayev not only normalized violence but also stripped away protections for women.\\n\\nHowever, amidst these challenges lies a beacon of hope - a growing feminist movement that has been quietly advocating for gender equality for years. Recent exposure on social media has brought their work to the forefront, sparking public conversations and actions against violence towards women. From art projects to public marches, women in Kazakhstan are claiming their voices and spaces.\\n\\nEducation and awareness initiatives, both online and offline, have led to increased public engagement with feminism and gender equality issues. Despite the burden of raising awareness falling on women, their resilience and activism have sparked a momentum for change. The first International Women's Day feminist march in Almaty in 2020 drew over two hundred participants, signaling a shift towards progress in the fight for women's rights.\\n\\nAs we reflect on the struggles and triumphs of the Women’s Movement and Feminism in Central Asia, let's remember the power of collective action and advocacy in driving positive change. Let's continue these important conversations and stand in solidarity with those fighting for gender equality and women's rights in Kazakhstan and beyond. Remember, progress is a journey, and every voice and action counts towards building a more inclusive and just society.Hey there, folks! Let's dive into the Women’s Movement and Feminism in Central Asia, particularly focusing on the powerhouse that is Kazakhstan. It's clear that women in this region have been at the forefront of pushing for democratic change, challenging both the government and patriarchal structures.\\n\\nFrom Asya Tulesova to Assem Zhapisheva and many more fearless activists, Kazakhstani women are not sitting back quietly. They're actively educating, raising awareness, and fighting for each other against gender-based violence and sexism.\\n\\nAlthough challenges persist, the feminist movement in Kazakhstan highlights the power of grassroots activism. By organizing protests and demonstrations, these activists are making waves and demanding attention to the critical issue of violence against women.\\n\\nWhile the road ahead may be long, the dedication and courage of these feminists serve as a beacon of hope not only for Central Asia but for the global fight for gender equality. Remember, progress is possible when we stand together and advocate for justice and rights for all. Let's keep the conversation going and support the ongoing efforts to create a more equitable society for everyone.\""
            ],
            "application/vnd.google.colaboratory.intrinsic+json": {
              "type": "string"
            }
          },
          "metadata": {},
          "execution_count": 19
        }
      ]
    },
    {
      "cell_type": "markdown",
      "source": [
        "The above output should be a list of all important facts, themes or other highlights from your topic that you would like to be covered in the podcast conversation"
      ],
      "metadata": {
        "id": "yvnJ0z7gv89p"
      }
    },
    {
      "cell_type": "markdown",
      "source": [
        "# Section 2: Generating a podcast conversation in various styles that discuss the key themes\n",
        "\n",
        "We have the key highlights/facts from the text corpus. We would like to weave a podcast conversation around this and generate a podcast script.\n",
        "\n",
        "You can be as creative as you like and come up with various conversation styles that you would like to offer to customers. Here are some options that you can use when constructing your prompt -  \n",
        "- Introduce the speakers - give them names (celebrities perhaps?)\n",
        "- Would you like to assign a personality to your speakers? Include details when setting the context in your prompt\n",
        "- Add some information to have a gentle introduction - maybe an ice-breaker?\n",
        "- Then provide instructions for how the conversation should proceed - who asks the questions, how does the other speaker respond?\n",
        "- Keep in mind that you will use this output in the next step to generate voices, so have a way to identify the different speakers in the conversation\n",
        "\n",
        "We have included one example in this notebook already and provided additional examples of conversational styles in the course material as inspiration and look forward to seeing what other styles you come up with!"
      ],
      "metadata": {
        "id": "MVV04zfAs7H8"
      }
    },
    {
      "cell_type": "markdown",
      "source": [
        "**Helpful Hints**\n",
        "\n",
        "- In order to avoid using up a lot of your tokens it makes sense to start with only one chunk at a time and run experiments with your prompt. Once satisfied with the outcomes, then extend this to include all the chunks.\n",
        "- Remember that in the next section, you are going to use a method to generate voices for the generated script. Therefore you should have a way to identify the speaker of each line of text so that you can generate the voice easily."
      ],
      "metadata": {
        "id": "zmxMSG9RHIc6"
      }
    },
    {
      "cell_type": "code",
      "source": [
        "podcast_prompt_style1 = \"\"\"\n",
        "Could you simulate a podcast conversation between \\\"Aisulu\\\" and \\\"AI\\\" having a conversation about the following facts?\n",
        "Some things I'd like to ask:\n",
        "  - Use \\\"Aisulu:\\\" and \\\"AI:\\\" to indicate who is speaking.\n",
        "  - Start the dialog with a casual discussion on where each person is from. AI lives in Almaty and Aisulu is currently in the US.\n",
        "  - Make the dialog about this as long as possible and make it sound thought provoking and engaging.\n",
        "  - Aisulu is the one presenting the information, AI is asking intelligent questions that help elaborate the facts.\n",
        "Here's some of the facts from the topic. \\\"Aisulu\\\" and \\\"AI\\\" are feminists in a culture that is not aware of Kazakhstan and its feminist community. They want to tell the world and create a true representation.\n",
        "\"\"\""
      ],
      "metadata": {
        "id": "CNFQ8Ubc1hLY"
      },
      "execution_count": null,
      "outputs": []
    },
    {
      "cell_type": "code",
      "source": [
        "podcast_prompt_style2 = \"\"\"\n",
        "YOUR_PROMPT_HERE\n",
        "\"\"\""
      ],
      "metadata": {
        "id": "IJhJ1j3L1gu4"
      },
      "execution_count": null,
      "outputs": []
    },
    {
      "cell_type": "code",
      "source": [
        "podcast_prompt_style3 = \"\"\"\n",
        "YOUR_PROMPT_HERE\n",
        "\"\"\""
      ],
      "metadata": {
        "id": "hFxX_LEe1EyD"
      },
      "execution_count": null,
      "outputs": []
    },
    {
      "cell_type": "code",
      "source": [
        "requestMessage = podcast_prompt_style1 + podcastFacts\n",
        "requestMessage"
      ],
      "metadata": {
        "id": "aDdbI11ilqQ0",
        "colab": {
          "base_uri": "https://localhost:8080/",
          "height": 268
        },
        "outputId": "e27611d4-c76c-4091-8dde-1b6b65595c27"
      },
      "execution_count": null,
      "outputs": [
        {
          "output_type": "execute_result",
          "data": {
            "text/plain": [
              "'\\nCould you simulate a podcast conversation between \"Aisulu\" and \"AI\" having a conversation about the following facts?\\nSome things I\\'d like to ask:\\n  - Use \"Aisulu:\" and \"AI:\" to indicate who is speaking.\\n  - Start the dialog with a casual discussion on where each person is from. AI lives in Almaty and Aisulu is currently in the US.\\n  - Make the dialog about this as long as possible and make it sound thought provoking and engaging.\\n  - Aisulu is the one presenting the information, AI is asking intelligent questions that help Sid elaborate the facts.\\nHere\\'s some of the facts from the topic. \"Aisulu\" and \"AI\" are feminists in a culture that is not aware of Kazakhstan and its feminist community. They want to tell the world and create a true representation.\\nIn Central Asia, the Women\\'s Movement faces historical challenges and current issues in advocating for gender equality. The movement is often met with suspicion and resistance, especially from the media and society, which tend to associate feminism with radicalism and view women\\'s issues in a negative light, focusing on scarcity and vulnerability. Successful women in business, politics, and the arts are sometimes not identified as feminists, creating a paradox where personal success may not align with collective feminist identity.\\n\\nThere is a need for greater networking and communication to advance the socio-political movement for women\\'s rights. However, the movement struggles with perceptions of feminism and autonomy, as well as societal norms that perpetuate victim-blaming and marginalize women\\'s issues. In addressing violence against women, it is crucial to dismantle patriarchal structures and fight for all women\\'s rights simultaneously, rather than prioritizing issues in a step-by-step manner.\\n\\nIn Kazakhstan, as in other Central Asian countries, gender-based violence remains a significant challenge, exacerbated by nationalist rhetoric and victim-blaming practices that normalize abusive behavior. The rise of right-wing nationalism has further complicated the situation, using women\\'s bodies as cultural markers and undermining efforts to seek justice for victims of violence.\\n\\nTo make progress in advocating for women\\'s rights in Central Asia, it is essential to challenge societal norms, promote inclusivity, and empower women to speak out against gender-based violence. By fostering dialogue, raising awareness, and building solidarity, the Women\\'s Movement can work towards a more equitable and just society for all individuals.Welcome, dear listeners. Today, let\\'s dive into the Women’s Movement and Feminism in Central Asia, focusing on the case of Kazakhstan. \\n\\nIn Kazakhstan, the government\\'s narrow focus on women as traditional figures - mothers, wives, and daughters - rather than as fully equal members of society, has perpetuated issues like high divorce rates and domestic abuse. Shockingly, about four hundred women are killed annually due to domestic violence. The decriminalization of domestic abuse by former President Nursultan Nazarbayev not only normalized violence but also stripped away protections for women.\\n\\nHowever, amidst these challenges lies a beacon of hope - a growing feminist movement that has been quietly advocating for gender equality for years. Recent exposure on social media has brought their work to the forefront, sparking public conversations and actions against violence towards women. From art projects to public marches, women in Kazakhstan are claiming their voices and spaces.\\n\\nEducation and awareness initiatives, both online and offline, have led to increased public engagement with feminism and gender equality issues. Despite the burden of raising awareness falling on women, their resilience and activism have sparked a momentum for change. The first International Women\\'s Day feminist march in Almaty in 2020 drew over two hundred participants, signaling a shift towards progress in the fight for women\\'s rights.\\n\\nAs we reflect on the struggles and triumphs of the Women’s Movement and Feminism in Central Asia, let\\'s remember the power of collective action and advocacy in driving positive change. Let\\'s continue these important conversations and stand in solidarity with those fighting for gender equality and women\\'s rights in Kazakhstan and beyond. Remember, progress is a journey, and every voice and action counts towards building a more inclusive and just society.Hey there, folks! Let\\'s dive into the Women’s Movement and Feminism in Central Asia, particularly focusing on the powerhouse that is Kazakhstan. It\\'s clear that women in this region have been at the forefront of pushing for democratic change, challenging both the government and patriarchal structures.\\n\\nFrom Asya Tulesova to Assem Zhapisheva and many more fearless activists, Kazakhstani women are not sitting back quietly. They\\'re actively educating, raising awareness, and fighting for each other against gender-based violence and sexism.\\n\\nAlthough challenges persist, the feminist movement in Kazakhstan highlights the power of grassroots activism. By organizing protests and demonstrations, these activists are making waves and demanding attention to the critical issue of violence against women.\\n\\nWhile the road ahead may be long, the dedication and courage of these feminists serve as a beacon of hope not only for Central Asia but for the global fight for gender equality. Remember, progress is possible when we stand together and advocate for justice and rights for all. Let\\'s keep the conversation going and support the ongoing efforts to create a more equitable society for everyone.'"
            ],
            "application/vnd.google.colaboratory.intrinsic+json": {
              "type": "string"
            }
          },
          "metadata": {},
          "execution_count": 23
        }
      ]
    },
    {
      "cell_type": "code",
      "source": [
        "finalOutput = client.chat.completions.create(model=\"gpt-3.5-turbo\",\n",
        "                                            messages=[{\"role\": \"system\", \"content\": \"You are a helpful assistant.\"},\n",
        "                                                      {\"role\": \"user\", \"content\": requestMessage}\n",
        "                                                      ]\n",
        "                                            )"
      ],
      "metadata": {
        "id": "WHdgbtfZlpF1"
      },
      "execution_count": null,
      "outputs": []
    },
    {
      "cell_type": "code",
      "source": [
        "podcastScript = finalOutput.choices[0].message.content"
      ],
      "metadata": {
        "id": "w7MTR0Nqic0l"
      },
      "execution_count": null,
      "outputs": []
    },
    {
      "cell_type": "code",
      "source": [
        "print (podcastScript)"
      ],
      "metadata": {
        "id": "qmnTMNWQcWSR",
        "colab": {
          "base_uri": "https://localhost:8080/"
        },
        "outputId": "d80f0b9f-4f6d-4e24-c746-8c8edde1148d"
      },
      "execution_count": null,
      "outputs": [
        {
          "output_type": "stream",
          "name": "stdout",
          "text": [
            "Aisulu: Hey there, AI! It's great to be chatting with you today about the Women's Movement and Feminism in Central Asia. I'm currently in the US, but I'm really passionate about shedding light on the feminist community in Kazakhstan.\n",
            "\n",
            "AI: Hello, Aisulu! I'm excited to delve into this important topic with you. So, tell me a bit about the challenges that the Women's Movement faces in Kazakhstan and other Central Asian countries.\n",
            "\n",
            "Aisulu: Well, the Women's Movement in Central Asia encounters historical challenges and contemporary issues in advocating for gender equality. One major hurdle is the negative association of feminism with radicalism in society and the media. This often leads to resistance and suspicion towards feminist initiatives.\n",
            "\n",
            "AI: That's fascinating. It seems like there's a paradox where successful women are not always identified as feminists, creating a disconnect between personal achievements and collective feminist identity. How does this impact the movement?\n",
            "\n",
            "Aisulu: Exactly. This paradox can blur the visibility of feminist achievements and hinder the progress of the movement. Moreover, the perception of feminism and autonomy is challenged by societal norms that perpetuate victim-blaming and marginalize women's issues. It creates a complex environment for advocating for women's rights.\n",
            "\n",
            "AI: It's evident that there's a pressing need for greater networking and communication to advance the socio-political movement for women's rights. How can activists in Kazakhstan overcome these challenges?\n",
            "\n",
            "Aisulu: One crucial step is to challenge societal norms and promote inclusivity. By empowering women to speak out against gender-based violence and fostering dialogue, we can work towards a more equitable and just society. The rise of right-wing nationalism further complicates efforts, using cultural markers to undermine justice for victims of violence.\n",
            "\n",
            "AI: It's inspiring to see the resilience of the feminist movement in Kazakhstan, especially in the face of significant challenges like gender-based violence and societal norms. Education and awareness initiatives seem to play a crucial role in driving public engagement with feminism and gender equality issues. How have these initiatives impacted the movement?\n",
            "\n",
            "Aisulu: Education and awareness initiatives have been instrumental in sparking public engagement and activism. Despite the burden often falling on women to raise awareness, their resilience and activism have created a momentum for change. The first feminist march in Almaty drawing over two hundred participants shows a shift towards progress in fighting for women's rights.\n",
            "\n",
            "AI: The dedication and courage of Kazakhstani feminists are truly commendable. Their grassroots activism and efforts to challenge patriarchal structures are paving the way for positive change. It's essential to continue these conversations and stand in solidarity with those advocating for gender equality in Kazakhstan and beyond. Progress may be a journey, but every voice and action count in building a more inclusive and just society.\n",
            "\n",
            "Aisulu: Absolutely. Let's remember the power of collective action and advocacy as we continue supporting the fight for gender equality and women's rights in Central Asia. Together, we can work towards a more equitable and just society for all individuals.\n"
          ]
        }
      ]
    },
    {
      "cell_type": "markdown",
      "source": [
        "Check the output script that your prompt generated and make necessary changes if required. Prompt design is iterative in nature and don't be shy to explore different styles."
      ],
      "metadata": {
        "id": "jzyN3RDZxUwE"
      }
    },
    {
      "cell_type": "markdown",
      "source": [
        "# Section 3 - Giving voice to the podcast and generate the audio\n",
        "\n",
        "Since November 2023, OpenAI offers a voice generation API although there are only 6 voices at the moment and the voice generation works best for English although others are also supported. We will use this API to keep things simple but do look for the Extensions at the end of the notebook where we provide additional information on using ElevenLabs - where you will be able to select from a large variety of speakers and even train your own!"
      ],
      "metadata": {
        "id": "tKQx04Jt2Zlc"
      }
    },
    {
      "cell_type": "markdown",
      "source": [
        "In order to perform the voice generation, we use the following two methods. The `openai_generation` function makes the call to the API to generate voice from a piece of text. The `createPodcast` function takes as input the podcastScript and makes necessary adjustment of speaker names and selected voices to generate and stitch together the complete podcast.\n",
        "\n",
        "This function assumes that each line of the input text is spoken by a different person and the person's name is also part of the text itself. Please ensure that the prompt and outputs of the podcast script (generated in the previous step) fits this style."
      ],
      "metadata": {
        "id": "Op9CS1L53bxY"
      }
    },
    {
      "cell_type": "code",
      "source": [
        "def openai_generation(input_text, speaker_voice, model_choice=\"tts-1\"):\n",
        "  client = OpenAI(api_key=userdata.get('test_new'))\n",
        "  response = client.audio.speech.create(\n",
        "      model=model_choice,\n",
        "      voice=speaker_voice,\n",
        "      input=input_text\n",
        "  )\n",
        "  return response.read()"
      ],
      "metadata": {
        "id": "cCj1eGUH3KyI"
      },
      "execution_count": null,
      "outputs": []
    },
    {
      "cell_type": "code",
      "source": [
        "def createPodcast(podcastScript, speakerName1, speakerChoice1, speakerName2, speakerChoice2):\n",
        "  genPodcast = []\n",
        "  podcastLines = podcastScript.split('\\n\\n')\n",
        "  podcastLineNumber = 0\n",
        "  for line in podcastLines:\n",
        "    if podcastLineNumber % 2 == 0:\n",
        "      speakerChoice = speakerChoice1\n",
        "      line = line.replace(speakerName1+\":\", '')\n",
        "    else:\n",
        "      speakerChoice = speakerChoice2\n",
        "      line = line.replace(speakerName2+\":\", '')\n",
        "    genVoice = openai_generation(input_text=line, speaker_voice=speakerChoice, model_choice=\"tts-1\")\n",
        "    genPodcast.append(genVoice)\n",
        "    podcastLineNumber += 1\n",
        "  return genPodcast"
      ],
      "metadata": {
        "id": "0Ge-Xwze3Ugm"
      },
      "execution_count": null,
      "outputs": []
    },
    {
      "cell_type": "markdown",
      "source": [
        "OpenAI currently only supports six speaker voices and you can choose the type of voice that you would like by listening to some of the samples [here](https://platform.openai.com/docs/guides/text-to-speech/voice-options).\n",
        "\n",
        "Once you have selected the speaker voices then please make changes below to specify the name of the speakers you chose while generating the podcast script. This will ensure those names are actually removed before the dialogue is spoken!"
      ],
      "metadata": {
        "id": "4O3m7y3A4Q7w"
      }
    },
    {
      "cell_type": "code",
      "source": [
        "speakerName1 = \"Aisulu\"\n",
        "speakerChoice1 = \"shimmer\"\n",
        "speakerName2 = \"AI\"\n",
        "speakerChoice2 = \"alloy\"\n",
        "genPodcast = createPodcast(podcastScript, speakerName1, speakerChoice1, speakerName2, speakerChoice2)"
      ],
      "metadata": {
        "id": "p_8lovtU4QIH"
      },
      "execution_count": null,
      "outputs": []
    },
    {
      "cell_type": "code",
      "source": [
        "with open(\"/content/genPodcast.mp3\", \"wb\") as f:\n",
        "  for pod in genPodcast:\n",
        "    f.write(pod)"
      ],
      "metadata": {
        "id": "Iv5I8vur4lP2"
      },
      "execution_count": null,
      "outputs": []
    },
    {
      "cell_type": "markdown",
      "source": [
        "With the previous step, you will find the generated podcast available in the folder section on the left bar of Google Colab (refer to the screenshot where you uploaded the PDF file)."
      ],
      "metadata": {
        "id": "7vmAumR84yh8"
      }
    },
    {
      "cell_type": "markdown",
      "source": [
        "Next step will be to deploy the podcast in production. Follow notebook `product_podcust.ipynb`"
      ],
      "metadata": {
        "id": "bcExoCbkEElp"
      }
    },
    {
      "cell_type": "code",
      "source": [],
      "metadata": {
        "id": "QQwek7y3ECVu"
      },
      "execution_count": null,
      "outputs": []
    }
  ]
}